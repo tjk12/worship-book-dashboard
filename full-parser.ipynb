{
 "cells": [
  {
   "cell_type": "code",
   "execution_count": 1,
   "metadata": {},
   "outputs": [],
   "source": [
    "from pathlib import Path\n",
    "from datetime import datetime, timedelta\n",
    "from functools import reduce\n",
    "\n",
    "import matplotlib.pyplot as plt\n",
    "from pathlib import Path\n",
    "import json\n",
    "import re\n",
    "import pandas as pd\n",
    "import DictionaryParser\n",
    "from DictionaryParser import DictionaryParser"
   ]
  },
  {
   "cell_type": "code",
   "execution_count": 2,
   "metadata": {},
   "outputs": [],
   "source": [
    "with open('sorted_data.json', 'r') as file:\n",
    "    data = json.load(file)\n",
    "\n",
    "parser = DictionaryParser(data)"
   ]
  },
  {
   "cell_type": "code",
   "execution_count": 3,
   "metadata": {},
   "outputs": [],
   "source": [
    "\n",
    "em = parser.parse(\"next\", \"ask Your protection\", \"expectingMothers\")\n",
    "absolution = parser.parse(\"before\", \"Lift up your hearts!\", \"Absolution\")\n",
    "adoration = parser.parse(\"between\", \"Adoration...Kedrov\", \"adoration\")\n",
    "GospelProclamation = parser.parse(\"before\", \"Lift up your hearts!\", \"GospelProclamation\", step=2)\n",
    "Confession_of_Sins_Prelude = parser.parse(\"before\", \"Let us pray together\", \"Confession_of_Sins_Prelude\")\n",
    "Church_and_World_Prelude = parser.parse(\"between\", \"Church and the World...In our own community\", \"Church_and_World_Prelude\")\n",
    "Church_and_World_Local = parser.parse(\"between\", \"In our own community...Outside of our community\", \"Church_and_World_Local\", inclusive=True)\n",
    "Church_and_World_Outside = parser.parse(\"between\", \"persecuted people all...OH LORD, HEAR OUR PRAYERS.\", \"Church_and_World_Outside\", inclusive=True)\n",
    "\n",
    "Church_and_World_Culture_and_Nation = parser.parse(\"between\", \"Prayer for the Church and the World Culture and Nation...Prayer for the Church and the World Epilogue\", \"Church_and_World_Culture_and_Nation\")\n",
    "Church_and_World_Epilogue = parser.parse(\"between\", \"Prayer for the Church and the World Epilogue...Nicene Creed\", \"Church_and_World_Epilogue\")\n",
    "\n",
    "# List of DataFrames to merge\n",
    "dfs = [em, absolution, adoration, GospelProclamation, Confession_of_Sins_Prelude, Church_and_World_Prelude, Church_and_World_Local, Church_and_World_Outside]\n",
    "\n",
    "# Merge all DataFrames on 'Date'\n",
    "final_merged_df = reduce(lambda left, right: pd.merge(left, right, on='Date', how='outer'), dfs)\n",
    "\n",
    "# Rename columns if needed\n",
    "final_merged_df.columns = ['Date', 'expectingMothers', 'Absolution', 'adoration', 'GospelProclamation', 'Confession_of_Sins_Prelude', 'Church_and_World_Prelude', 'Church_and_World_Local', 'Church_and_World_Outside']\n",
    "\n",
    "# Display the merged DataFrame\n",
    "final_merged_df.to_csv(\"final_merged_df.csv\")"
   ]
  },
  {
   "cell_type": "code",
   "execution_count": 6,
   "metadata": {},
   "outputs": [],
   "source": [
    "# List of DataFrames to merge\n",
    "dfs2 = [Church_and_World_Culture_and_Nation, Church_and_World_Epilogue]\n",
    "\n",
    "# Merge all DataFrames on 'Date'\n",
    "final_merged_df2 = reduce(lambda left, right: pd.merge(left, right, on='Date', how='outer'), dfs2)\n",
    "\n",
    "# Rename columns if needed\n",
    "final_merged_df2.columns = ['Date', 'Church_and_World_Culture_and_Nation', 'Church_and_World_Epilogue']\n",
    "\n",
    "# Display the merged DataFrame\n",
    "final_merged_df2.to_csv(\"Church_and_World_final2.csv\")"
   ]
  },
  {
   "cell_type": "code",
   "execution_count": null,
   "metadata": {},
   "outputs": [],
   "source": []
  }
 ],
 "metadata": {
  "kernelspec": {
   "display_name": "Python 3",
   "language": "python",
   "name": "python3"
  },
  "language_info": {
   "codemirror_mode": {
    "name": "ipython",
    "version": 3
   },
   "file_extension": ".py",
   "mimetype": "text/x-python",
   "name": "python",
   "nbconvert_exporter": "python",
   "pygments_lexer": "ipython3",
   "version": "3.10.11"
  },
  "orig_nbformat": 4
 },
 "nbformat": 4,
 "nbformat_minor": 2
}
