{
 "cells": [
  {
   "cell_type": "code",
   "execution_count": 1,
   "metadata": {},
   "outputs": [],
   "source": [
    "import csv\n",
    "import json\n",
    "\n",
    "def csv_to_json(csv_file, json_file):\n",
    "    # Initialize an empty list to store the dictionaries\n",
    "    data = []\n",
    "    \n",
    "    # Open the CSV file and read its contents\n",
    "    with open(csv_file, 'r', newline='') as csvfile:\n",
    "        # Create a CSV reader object\n",
    "        csvreader = csv.DictReader(csvfile)\n",
    "        \n",
    "        # Iterate over each row in the CSV file\n",
    "        for row in csvreader:\n",
    "            # Append each row as a dictionary to the list\n",
    "            data.append(row)\n",
    "    \n",
    "    # Write the list of dictionaries to a JSON file\n",
    "    with open(json_file, 'w') as jsonfile:\n",
    "        # Use json.dump to write the data to the JSON file\n",
    "        json.dump(data, jsonfile, indent=4)\n",
    "\n",
    "# Example usage:\n",
    "csv_file = 'test-data.csv'\n",
    "json_file = 'output.json'\n",
    "csv_to_json(csv_file, json_file)\n"
   ]
  },
  {
   "cell_type": "code",
   "execution_count": null,
   "metadata": {},
   "outputs": [],
   "source": []
  }
 ],
 "metadata": {
  "kernelspec": {
   "display_name": "Python 3",
   "language": "python",
   "name": "python3"
  },
  "language_info": {
   "codemirror_mode": {
    "name": "ipython",
    "version": 3
   },
   "file_extension": ".py",
   "mimetype": "text/x-python",
   "name": "python",
   "nbconvert_exporter": "python",
   "pygments_lexer": "ipython3",
   "version": "3.9.7"
  }
 },
 "nbformat": 4,
 "nbformat_minor": 2
}
